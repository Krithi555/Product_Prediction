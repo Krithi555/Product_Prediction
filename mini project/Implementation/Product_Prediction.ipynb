{
 "cells": [
  {
   "cell_type": "code",
   "execution_count": 46,
   "id": "b209a084",
   "metadata": {},
   "outputs": [],
   "source": [
    "#import the necessary Packages\n",
    "import numpy as np\n",
    "import pandas as pd\n",
    "import matplotlib.pyplot as plt\n",
    "import seaborn as sns\n",
    "from sklearn.model_selection import train_test_split\n",
    "from sklearn.preprocessing import StandardScaler\n",
    "from sklearn import svm\n",
    "from sklearn.metrics import accuracy_score"
   ]
  },
  {
   "cell_type": "code",
   "execution_count": 47,
   "id": "ce2a7851",
   "metadata": {},
   "outputs": [],
   "source": [
    "#Read the csv file\n",
    "df=pd.read_csv(\"festival_amazon.csv\")"
   ]
  },
  {
   "cell_type": "code",
   "execution_count": 48,
   "id": "5ca116ad",
   "metadata": {},
   "outputs": [
    {
     "data": {
      "text/html": [
       "<div>\n",
       "<style scoped>\n",
       "    .dataframe tbody tr th:only-of-type {\n",
       "        vertical-align: middle;\n",
       "    }\n",
       "\n",
       "    .dataframe tbody tr th {\n",
       "        vertical-align: top;\n",
       "    }\n",
       "\n",
       "    .dataframe thead th {\n",
       "        text-align: right;\n",
       "    }\n",
       "</style>\n",
       "<table border=\"1\" class=\"dataframe\">\n",
       "  <thead>\n",
       "    <tr style=\"text-align: right;\">\n",
       "      <th></th>\n",
       "      <th>Title</th>\n",
       "      <th>Image</th>\n",
       "      <th>Stars</th>\n",
       "      <th>Discounted_Price</th>\n",
       "      <th>Original_Price</th>\n",
       "      <th>Discount</th>\n",
       "      <th>Unnamed: 6</th>\n",
       "      <th>Unnamed: 7</th>\n",
       "      <th>Unnamed: 8</th>\n",
       "    </tr>\n",
       "  </thead>\n",
       "  <tbody>\n",
       "    <tr>\n",
       "      <th>0</th>\n",
       "      <td>SONIA MUSICALS Musical Double Bellow 39 Keys B...</td>\n",
       "      <td>https://m.media-amazon.com/images/I/61sqdQBekH...</td>\n",
       "      <td>NaN</td>\n",
       "      <td>₹10,500</td>\n",
       "      <td>₹15,099</td>\n",
       "      <td>(30% off)</td>\n",
       "      <td>NaN</td>\n",
       "      <td>NaN</td>\n",
       "      <td>NaN</td>\n",
       "    </tr>\n",
       "    <tr>\n",
       "      <th>1</th>\n",
       "      <td>boAt Airdopes 141 True Wireless Earbuds with 4...</td>\n",
       "      <td>https://m.media-amazon.com/images/I/51HBom8xz7...</td>\n",
       "      <td>3.9 out of 5 stars</td>\n",
       "      <td>₹1,349</td>\n",
       "      <td>₹4,490</td>\n",
       "      <td>(70% off)</td>\n",
       "      <td>NaN</td>\n",
       "      <td>NaN</td>\n",
       "      <td>NaN</td>\n",
       "    </tr>\n",
       "    <tr>\n",
       "      <th>2</th>\n",
       "      <td>pTron Pride Indie in-Ear Wired Earphones with ...</td>\n",
       "      <td>https://m.media-amazon.com/images/I/513dZbDUdt...</td>\n",
       "      <td>3.8 out of 5 stars</td>\n",
       "      <td>₹199</td>\n",
       "      <td>₹699</td>\n",
       "      <td>(72% off)</td>\n",
       "      <td>NaN</td>\n",
       "      <td>NaN</td>\n",
       "      <td>NaN</td>\n",
       "    </tr>\n",
       "    <tr>\n",
       "      <th>3</th>\n",
       "      <td>boAt Airdopes 141 True Wireless Earbuds with 4...</td>\n",
       "      <td>https://m.media-amazon.com/images/I/51tFAbNRaP...</td>\n",
       "      <td>3.9 out of 5 stars</td>\n",
       "      <td>₹1,349</td>\n",
       "      <td>₹4,490</td>\n",
       "      <td>(70% off)</td>\n",
       "      <td>NaN</td>\n",
       "      <td>NaN</td>\n",
       "      <td>NaN</td>\n",
       "    </tr>\n",
       "    <tr>\n",
       "      <th>4</th>\n",
       "      <td>Fire-Boltt India's No 1 Smartwatch Brand Talk ...</td>\n",
       "      <td>https://m.media-amazon.com/images/I/61mqaxj-iC...</td>\n",
       "      <td>4.2 out of 5 stars</td>\n",
       "      <td>₹2,199</td>\n",
       "      <td>₹9,999</td>\n",
       "      <td>(78% off)</td>\n",
       "      <td>NaN</td>\n",
       "      <td>NaN</td>\n",
       "      <td>NaN</td>\n",
       "    </tr>\n",
       "  </tbody>\n",
       "</table>\n",
       "</div>"
      ],
      "text/plain": [
       "                                               Title  \\\n",
       "0  SONIA MUSICALS Musical Double Bellow 39 Keys B...   \n",
       "1  boAt Airdopes 141 True Wireless Earbuds with 4...   \n",
       "2  pTron Pride Indie in-Ear Wired Earphones with ...   \n",
       "3  boAt Airdopes 141 True Wireless Earbuds with 4...   \n",
       "4  Fire-Boltt India's No 1 Smartwatch Brand Talk ...   \n",
       "\n",
       "                                               Image               Stars  \\\n",
       "0  https://m.media-amazon.com/images/I/61sqdQBekH...                 NaN   \n",
       "1  https://m.media-amazon.com/images/I/51HBom8xz7...  3.9 out of 5 stars   \n",
       "2  https://m.media-amazon.com/images/I/513dZbDUdt...  3.8 out of 5 stars   \n",
       "3  https://m.media-amazon.com/images/I/51tFAbNRaP...  3.9 out of 5 stars   \n",
       "4  https://m.media-amazon.com/images/I/61mqaxj-iC...  4.2 out of 5 stars   \n",
       "\n",
       "  Discounted_Price Original_Price   Discount  Unnamed: 6  Unnamed: 7  \\\n",
       "0          ₹10,500        ₹15,099  (30% off)         NaN         NaN   \n",
       "1           ₹1,349         ₹4,490  (70% off)         NaN         NaN   \n",
       "2             ₹199           ₹699  (72% off)         NaN         NaN   \n",
       "3           ₹1,349         ₹4,490  (70% off)         NaN         NaN   \n",
       "4           ₹2,199         ₹9,999  (78% off)         NaN         NaN   \n",
       "\n",
       "   Unnamed: 8  \n",
       "0         NaN  \n",
       "1         NaN  \n",
       "2         NaN  \n",
       "3         NaN  \n",
       "4         NaN  "
      ]
     },
     "execution_count": 48,
     "metadata": {},
     "output_type": "execute_result"
    }
   ],
   "source": [
    "#Display the dataset\n",
    "df.head()"
   ]
  },
  {
   "cell_type": "code",
   "execution_count": 49,
   "id": "59cd5e22",
   "metadata": {},
   "outputs": [
    {
     "data": {
      "text/plain": [
       "Title                  0\n",
       "Image                  0\n",
       "Stars                313\n",
       "Discounted_Price       0\n",
       "Original_Price         0\n",
       "Discount               0\n",
       "Unnamed: 6          1548\n",
       "Unnamed: 7          1548\n",
       "Unnamed: 8          1548\n",
       "dtype: int64"
      ]
     },
     "execution_count": 49,
     "metadata": {},
     "output_type": "execute_result"
    }
   ],
   "source": [
    "df.isnull().sum()"
   ]
  },
  {
   "cell_type": "code",
   "execution_count": 51,
   "id": "377372a1",
   "metadata": {},
   "outputs": [
    {
     "data": {
      "image/png": "[encoded data removed]",
      "text/plain": [
       "<Figure size 864x432 with 2 Axes>"
      ]
     },
     "metadata": {
      "needs_background": "light"
     },
     "output_type": "display_data"
    }
   ],
   "source": [
    "plt.figure(figsize=(12, 6))\n",
    "plt.subplot(1, 2, 1)\n",
    "sns.histplot(df['Original_Price'], bins=30, kde=True)\n",
    "plt.title('Distribution of Original Price')\n",
    "plt.xlabel('Original Price')\n",
    "\n",
    "plt.subplot(1, 2, 2)\n",
    "sns.histplot(df['Discounted_Price'], bins=30, kde=True)\n",
    "plt.title('Distribution of Discounted Price')\n",
    "plt.xlabel('Discounted Price')\n",
    "\n",
    "plt.tight_layout()\n",
    "plt.show()"
   ]
  },
  {
   "cell_type": "code",
   "execution_count": 60,
   "id": "a922c4bc",
   "metadata": {},
   "outputs": [
    {
     "name": "stdout",
     "output_type": "stream",
     "text": [
      "       Original_Price  Discounted_Price\n",
      "count             0.0               0.0\n",
      "mean              NaN               NaN\n",
      "std               NaN               NaN\n",
      "min               NaN               NaN\n",
      "25%               NaN               NaN\n",
      "50%               NaN               NaN\n",
      "75%               NaN               NaN\n",
      "max               NaN               NaN\n"
     ]
    }
   ],
   "source": [
    "print(df[['Original_Price', 'Discounted_Price']].describe())"
   ]
  }
 ],
 "metadata": {
  "kernelspec": {
   "display_name": "Python 3 (ipykernel)",
   "language": "python",
   "name": "python3"
  },
  "language_info": {
   "codemirror_mode": {
    "name": "ipython",
    "version": 3
   },
   "file_extension": ".py",
   "mimetype": "text/x-python",
   "name": "python",
   "nbconvert_exporter": "python",
   "pygments_lexer": "ipython3",
   "version": "3.9.12"
  }
 },
 "nbformat": 4,
 "nbformat_minor": 5
}
